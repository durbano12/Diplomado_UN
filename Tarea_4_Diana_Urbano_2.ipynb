{
 "cells": [
  {
   "cell_type": "markdown",
   "id": "c9e6ba50",
   "metadata": {},
   "source": [
    "## Tarea 4 -- Empezando con la Programación orientada a objetos"
   ]
  },
  {
   "cell_type": "markdown",
   "id": "5d9f169c",
   "metadata": {},
   "source": [
    "Presentado por: Diana Carolina Urbano Buritica"
   ]
  },
  {
   "cell_type": "markdown",
   "id": "08690cbe",
   "metadata": {},
   "source": [
    "1. Consiga el conjunto de datos iris.csv. En el repositorio de Aprendizaje Profundo encuentra alguna versión"
   ]
  },
  {
   "cell_type": "code",
   "execution_count": 5,
   "id": "83207edc",
   "metadata": {},
   "outputs": [],
   "source": [
    "#librerias\n",
    "import csv\n",
    "import pandas as pd\n",
    "import matplotlib.pyplot as plt"
   ]
  },
  {
   "cell_type": "code",
   "execution_count": 3,
   "id": "77d88c65",
   "metadata": {},
   "outputs": [],
   "source": [
    "iris = pd.read_csv('iris.csv')"
   ]
  },
  {
   "cell_type": "code",
   "execution_count": 4,
   "id": "4e614259",
   "metadata": {},
   "outputs": [
    {
     "name": "stdout",
     "output_type": "stream",
     "text": [
      "      Id  SepalLengthCm  SepalWidthCm  PetalLengthCm  PetalWidthCm  \\\n",
      "0      1            5.1           3.5            1.4           0.2   \n",
      "1      2            4.9           3.0            1.4           0.2   \n",
      "2      3            4.7           3.2            1.3           0.2   \n",
      "3      4            4.6           3.1            1.5           0.2   \n",
      "4      5            5.0           3.6            1.4           0.2   \n",
      "..   ...            ...           ...            ...           ...   \n",
      "145  146            6.7           3.0            5.2           2.3   \n",
      "146  147            6.3           2.5            5.0           1.9   \n",
      "147  148            6.5           3.0            5.2           2.0   \n",
      "148  149            6.2           3.4            5.4           2.3   \n",
      "149  150            5.9           3.0            5.1           1.8   \n",
      "\n",
      "            Species  \n",
      "0       Iris-setosa  \n",
      "1       Iris-setosa  \n",
      "2       Iris-setosa  \n",
      "3       Iris-setosa  \n",
      "4       Iris-setosa  \n",
      "..              ...  \n",
      "145  Iris-virginica  \n",
      "146  Iris-virginica  \n",
      "147  Iris-virginica  \n",
      "148  Iris-virginica  \n",
      "149  Iris-virginica  \n",
      "\n",
      "[150 rows x 6 columns]\n"
     ]
    }
   ],
   "source": [
    "print(iris)"
   ]
  },
  {
   "cell_type": "markdown",
   "id": "22ed30f1",
   "metadata": {},
   "source": [
    "3. Escriba una clase con las siguientes funcionalidades:<br>\n",
    "    3.1. Al instanciar un objeto, lee un conjunto de datos numéricos. Por ejemplo puede usar el mismo conjunto de datos iris.csv. Instancie los datos en un dataframe de Pandas<br>\n",
    "    3.2 Implemente un método que calcule las estadísticas descriptivas básicas de cada una de las variables.<br>\n",
    "    3.3 Implemente un método que entregue los nombre de las variables disponibles.<br>\n",
    "    3.4 Implemente un método que reciba el nombre de una variable disponible dentro del objeto ( en el  dataframe) y regrese: sus estadísticas básicas:  media, mediana, desviación, percentiles q25, q50, q75 y dibuje un histograma de la distribución de la variable.<br>"
   ]
  },
  {
   "cell_type": "code",
   "execution_count": 7,
   "id": "bb61ced3",
   "metadata": {},
   "outputs": [],
   "source": [
    "class Funciones:\n",
    "    def __init__(self, archivo):\n",
    "        self.dataframe = pd.read_csv(archivo)\n",
    "\n",
    "    def estadisticas_descriptivas(self):\n",
    "        return self.dataframe.describe()\n",
    "\n",
    "    def variables_disponibles(self):\n",
    "        return self.dataframe.columns.tolist()\n",
    "\n",
    "    def estadisticas_variable(self, variable):\n",
    "        if variable not in self.dataframe.columns:\n",
    "            return \"Variable no encontrada\"\n",
    "        else:\n",
    "            stats = self.dataframe[variable].describe()\n",
    "            histograma = self.dataframe[variable].plot(kind='hist', bins=10)\n",
    "            plt.title(f\"Histograma de la variable {variable}\")\n",
    "            plt.xlabel(variable)\n",
    "            plt.show()\n",
    "            return stats"
   ]
  },
  {
   "cell_type": "code",
   "execution_count": 9,
   "id": "47e970f2",
   "metadata": {},
   "outputs": [
    {
     "name": "stdout",
     "output_type": "stream",
     "text": [
      "               Id  SepalLengthCm  SepalWidthCm  PetalLengthCm  PetalWidthCm\n",
      "count  150.000000     150.000000    150.000000     150.000000    150.000000\n",
      "mean    75.500000       5.843333      3.054000       3.758667      1.198667\n",
      "std     43.445368       0.828066      0.433594       1.764420      0.763161\n",
      "min      1.000000       4.300000      2.000000       1.000000      0.100000\n",
      "25%     38.250000       5.100000      2.800000       1.600000      0.300000\n",
      "50%     75.500000       5.800000      3.000000       4.350000      1.300000\n",
      "75%    112.750000       6.400000      3.300000       5.100000      1.800000\n",
      "max    150.000000       7.900000      4.400000       6.900000      2.500000\n",
      "['Id', 'SepalLengthCm', 'SepalWidthCm', 'PetalLengthCm', 'PetalWidthCm', 'Species']\n"
     ]
    },
    {
     "data": {
      "image/png": "[encoded data removed]",
      "text/plain": [
       "<Figure size 432x288 with 1 Axes>"
      ]
     },
     "metadata": {
      "needs_background": "light"
     },
     "output_type": "display_data"
    },
    {
     "name": "stdout",
     "output_type": "stream",
     "text": [
      "count    150.000000\n",
      "mean       5.843333\n",
      "std        0.828066\n",
      "min        4.300000\n",
      "25%        5.100000\n",
      "50%        5.800000\n",
      "75%        6.400000\n",
      "max        7.900000\n",
      "Name: SepalLengthCm, dtype: float64\n"
     ]
    }
   ],
   "source": [
    "func = Funciones('iris.csv')\n",
    "\n",
    "# Estadísticas descriptivas \n",
    "print(func.estadisticas_descriptivas())\n",
    "\n",
    "# Nombres de las variables\n",
    "print(func.variables_disponibles())\n",
    "\n",
    "# Estadísticas y histograma de la variable \"SepalLengthCm\"\n",
    "print(func.estadisticas_variable('SepalLengthCm'))"
   ]
  },
  {
   "cell_type": "markdown",
   "id": "1f92b886",
   "metadata": {},
   "source": []
  }
 ],
 "metadata": {
  "kernelspec": {
   "display_name": "Python 3 (ipykernel)",
   "language": "python",
   "name": "python3"
  },
  "language_info": {
   "codemirror_mode": {
    "name": "ipython",
    "version": 3
   },
   "file_extension": ".py",
   "mimetype": "text/x-python",
   "name": "python",
   "nbconvert_exporter": "python",
   "pygments_lexer": "ipython3",
   "version": "3.9.7"
  }
 },
 "nbformat": 4,
 "nbformat_minor": 5
}
